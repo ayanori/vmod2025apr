{
 "cells": [
  {
   "cell_type": "code",
   "execution_count": 4,
   "id": "837f0503-da54-4249-b1a2-7b011dc0abfe",
   "metadata": {},
   "outputs": [],
   "source": [
    "test_tuple = [(1,2,3),(4,5,6),(7,8,9),(1,2,3)]"
   ]
  },
  {
   "cell_type": "code",
   "execution_count": 8,
   "id": "f1ba1495-8d22-4ed7-9486-619193d437e5",
   "metadata": {},
   "outputs": [
    {
     "data": {
      "text/plain": [
       "1"
      ]
     },
     "execution_count": 8,
     "metadata": {},
     "output_type": "execute_result"
    }
   ],
   "source": [
    "test_tuple[0][0]"
   ]
  },
  {
   "cell_type": "code",
   "execution_count": 6,
   "id": "0a424fe2-8620-4ae8-b00c-7236b77a67a6",
   "metadata": {},
   "outputs": [
    {
     "data": {
      "text/plain": [
       "4"
      ]
     },
     "execution_count": 6,
     "metadata": {},
     "output_type": "execute_result"
    }
   ],
   "source": [
    "len(test_tuple)"
   ]
  },
  {
   "cell_type": "code",
   "execution_count": 14,
   "id": "eb64cec2-0142-416e-928b-e1861b67517b",
   "metadata": {},
   "outputs": [
    {
     "name": "stdout",
     "output_type": "stream",
     "text": [
      "0\n",
      "1\n",
      "2\n",
      "3\n"
     ]
    }
   ],
   "source": [
    "for i,patch in enumerate(test_tuple):\n",
    "    print(i)"
   ]
  },
  {
   "cell_type": "code",
   "execution_count": null,
   "id": "b2dbe48f-51b3-41e1-8e41-855fc4243a17",
   "metadata": {},
   "outputs": [],
   "source": []
  }
 ],
 "metadata": {
  "kernelspec": {
   "display_name": "mcmc3 [conda env:.local-mcmc3]",
   "language": "python",
   "name": "conda-env-.local-mcmc3-py"
  },
  "language_info": {
   "codemirror_mode": {
    "name": "ipython",
    "version": 3
   },
   "file_extension": ".py",
   "mimetype": "text/x-python",
   "name": "python",
   "nbconvert_exporter": "python",
   "pygments_lexer": "ipython3",
   "version": "3.8.5"
  }
 },
 "nbformat": 4,
 "nbformat_minor": 5
}
